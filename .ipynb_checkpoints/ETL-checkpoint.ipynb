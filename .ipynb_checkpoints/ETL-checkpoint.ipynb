{
 "cells": [
  {
   "cell_type": "markdown",
   "id": "fcd65892-4235-4490-a1ba-8da5951af60d",
   "metadata": {},
   "source": [
    "## Extract data from API"
   ]
  },
  {
   "cell_type": "code",
   "execution_count": null,
   "id": "8044ed75-9ddb-472e-8a65-6f60c91dee46",
   "metadata": {},
   "outputs": [],
   "source": [
    "pip install pandas\n"
   ]
  },
  {
   "cell_type": "code",
   "execution_count": null,
   "id": "4ddc4ba1-9ee4-4f67-bac8-9b52de32a08d",
   "metadata": {},
   "outputs": [],
   "source": [
    "import json \n",
    "import requests\n",
    "import pandas as pd"
   ]
  },
  {
   "cell_type": "code",
   "execution_count": 13,
   "id": "b479cdef-2f6e-4c72-996b-d9db78acdb83",
   "metadata": {},
   "outputs": [],
   "source": [
    "def extract():\n",
    "    data=requests.get('https://api.open-meteo.com/v1/forecast?latitude=52.52&longitude=13.41&hourly=temperature_2m')\n",
    "    text=data.text\n",
    "    dictionary=json.loads(text)\n",
    "    return dictionary"
   ]
  },
  {
   "cell_type": "markdown",
   "id": "10f16251-77ed-47e0-838e-96235031c221",
   "metadata": {},
   "source": [
    "## transform data into readable dataframe "
   ]
  },
  {
   "cell_type": "code",
   "execution_count": null,
   "id": "f66e1071-c3ba-411e-ac93-ae98159a3316",
   "metadata": {},
   "outputs": [],
   "source": [
    "def transform(raw_data: dict):\n",
    "    # Convertit le dictionnaire en un DataFrame en utilisant la fonction json_normalize de pandas\n",
    "    df=pd.json_normalize(raw_data)\n",
    "    # Explose les listes présentes dans les colonnes 'hourly.time' et 'hourly.temperature_2m'\n",
    "    # Cela signifie que si une cellule contient une liste, elle sera \"décomposée\" en plusieurs lignes\n",
    "    # Chaque élément de la liste devient une nouvelle ligne dans le DataFrame\n",
    "    df=df.explode(['hourly.time','hourly.temperature_2m'])\n",
    "\n",
    "    return df"
   ]
  },
  {
   "cell_type": "markdown",
   "id": "e8e70d34-1563-4bb6-9217-c53bae8df4da",
   "metadata": {},
   "source": [
    "## load data"
   ]
  },
  {
   "cell_type": "markdown",
   "id": "1b011922-b401-4412-a956-28d05d19011b",
   "metadata": {},
   "source": [
    "=> boto3 : est la bibliothèque officielle d'AWS pour interagir avec les services AWS via Python.\n",
    "\n",
    "=>awswrangler : Simplifie l'accès et la manipulation de données depuis et vers plusieurs sources de données AWS telles que S3, Redshift, Athena, Glue, etc.\n",
    "\n",
    "=>dotenv est utilisée pour charger les variables d'environnement à partir d'un fichier .env\n",
    "\n"
   ]
  },
  {
   "cell_type": "code",
   "execution_count": null,
   "id": "9f799c6d-1a7f-4933-80e9-8c330f72b9f9",
   "metadata": {},
   "outputs": [],
   "source": [
    "import boto3\n",
    "import awswrangler as wr\n",
    "from datetime import datetime\n",
    "import os\n",
    "from dotenv import load_dotenv"
   ]
  },
  {
   "cell_type": "code",
   "execution_count": null,
   "id": "64688a16-bada-4567-82e4-89d6dd6a62fe",
   "metadata": {},
   "outputs": [],
   "source": [
    "def load(transformed_data:pd.DataFrame):\n",
    "    #Chargement des variables d'environnement du fichier .env\n",
    "    load_dotenv()\n",
    "    \n",
    "    #Obtention de la date et de l'heure actuelles\n",
    "    now=datetime.now()\n",
    "    year=now.strftime(\"%Y\")\n",
    "    month = now.strftime(\"%m\")\n",
    "    day =now.strftime(\"%d\")\n",
    "    time = now.strtime(\"%H:%M:%S\")\n",
    "\n",
    "    #crée une session Boto3 en utilisant les clés d'accès AWS et la région spécifiées.\n",
    "    session=boto3.Session(\n",
    "        aws_access_key_id=os.getenv('AWS_ACCESS_KEY_ID'),\n",
    "        aws_secret_eccess_key=os.gentenv('AWS_SECRET_ACCESS_KEY'),\n",
    "        region_name=\"USA Est (Ohio) us-east-2\"\n",
    "    )\n",
    "\n",
    "    #On utilise la fonction to_parquet de awswrangler (wr.s3.to_parquet) \n",
    "    #pour charger le DataFrame transformed_data dans un bucket S3\n",
    "    wr.s3.to_parsuet(\n",
    "        df=transformed_data,\n",
    "        #Le chemin S3 où les données seront chargées est construit en fonction de l'année, du mois, du jour et de l'heure actuels.\n",
    "        path='s3://etlairflowpipeline/open_meteo' + year + '/'+month +'/' +day +'/'+time\n",
    "        boto3_session=session,\n",
    "    )\n",
    "        \n",
    "    "
   ]
  },
  {
   "cell_type": "code",
   "execution_count": 17,
   "id": "99afa39c-9edd-4fa8-8194-af5c43a149c9",
   "metadata": {},
   "outputs": [
    {
     "ename": "NameError",
     "evalue": "name 'transform' is not defined",
     "output_type": "error",
     "traceback": [
      "\u001b[1;31m---------------------------------------------------------------------------\u001b[0m",
      "\u001b[1;31mNameError\u001b[0m                                 Traceback (most recent call last)",
      "Cell \u001b[1;32mIn[17], line 2\u001b[0m\n\u001b[0;32m      1\u001b[0m raw_data\u001b[38;5;241m=\u001b[39mextract()\n\u001b[1;32m----> 2\u001b[0m transformed_data\u001b[38;5;241m=\u001b[39m\u001b[43mtransform\u001b[49m(raw_data)\n\u001b[0;32m      3\u001b[0m load(transformed_data)\n",
      "\u001b[1;31mNameError\u001b[0m: name 'transform' is not defined"
     ]
    }
   ],
   "source": [
    "raw_data=extract()\n",
    "transformed_data=transform(raw_data)\n",
    "load(transformed_data)"
   ]
  },
  {
   "cell_type": "code",
   "execution_count": null,
   "id": "6270aa06-ba50-4d17-b909-63f4d632caa0",
   "metadata": {},
   "outputs": [],
   "source": []
  }
 ],
 "metadata": {
  "kernelspec": {
   "display_name": "Python 3 (ipykernel)",
   "language": "python",
   "name": "python3"
  },
  "language_info": {
   "codemirror_mode": {
    "name": "ipython",
    "version": 3
   },
   "file_extension": ".py",
   "mimetype": "text/x-python",
   "name": "python",
   "nbconvert_exporter": "python",
   "pygments_lexer": "ipython3",
   "version": "3.10.11"
  }
 },
 "nbformat": 4,
 "nbformat_minor": 5
}
