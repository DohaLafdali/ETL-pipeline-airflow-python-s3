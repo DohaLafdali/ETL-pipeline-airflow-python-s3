{
 "cells": [
  {
   "cell_type": "markdown",
   "id": "fcd65892-4235-4490-a1ba-8da5951af60d",
   "metadata": {},
   "source": [
    "## Extract data from API"
   ]
  },
  {
   "cell_type": "code",
   "execution_count": 24,
   "id": "4ddc4ba1-9ee4-4f67-bac8-9b52de32a08d",
   "metadata": {},
   "outputs": [],
   "source": [
    "import json \n",
    "import requests\n",
    "import pandas as pd"
   ]
  },
  {
   "cell_type": "code",
   "execution_count": 26,
   "id": "b479cdef-2f6e-4c72-996b-d9db78acdb83",
   "metadata": {},
   "outputs": [],
   "source": [
    "def extract():\n",
    "    data=requests.get('https://api.open-meteo.com/v1/forecast?latitude=52.52&longitude=13.41&hourly=temperature_2m')\n",
    "    text=data.text\n",
    "    dictionary=json.loads(text)\n",
    "    return dictionary"
   ]
  },
  {
   "cell_type": "markdown",
   "id": "10f16251-77ed-47e0-838e-96235031c221",
   "metadata": {},
   "source": [
    "## transform data into readable dataframe "
   ]
  },
  {
   "cell_type": "code",
   "execution_count": 27,
   "id": "f66e1071-c3ba-411e-ac93-ae98159a3316",
   "metadata": {},
   "outputs": [],
   "source": [
    "def transform(raw_data: dict):\n",
    "    # Convertit le dictionnaire en un DataFrame en utilisant la fonction json_normalize de pandas\n",
    "    df=pd.json_normalize(raw_data)\n",
    "    # Explose les listes présentes dans les colonnes 'hourly.time' et 'hourly.temperature_2m'\n",
    "    # Cela signifie que si une cellule contient une liste, elle sera \"décomposée\" en plusieurs lignes\n",
    "    # Chaque élément de la liste devient une nouvelle ligne dans le DataFrame\n",
    "    df=df.explode(['hourly.time','hourly.temperature_2m'])\n",
    "\n",
    "    return df"
   ]
  },
  {
   "cell_type": "code",
   "execution_count": 39,
   "id": "102de030-db14-48de-adc7-857bae6bcbc0",
   "metadata": {},
   "outputs": [
    {
     "name": "stdout",
     "output_type": "stream",
     "text": [
      "Collecting load_dotenv\n",
      "  Downloading load_dotenv-0.1.0-py3-none-any.whl (7.2 kB)\n",
      "Collecting python-dotenv\n",
      "  Downloading python_dotenv-1.0.0-py3-none-any.whl (19 kB)\n",
      "Installing collected packages: python-dotenv, load_dotenv\n",
      "Successfully installed load_dotenv-0.1.0 python-dotenv-1.0.0\n",
      "Note: you may need to restart the kernel to use updated packages.\n"
     ]
    },
    {
     "name": "stderr",
     "output_type": "stream",
     "text": [
      "\n",
      "[notice] A new release of pip is available: 23.0.1 -> 23.2.1\n",
      "[notice] To update, run: python.exe -m pip install --upgrade pip\n"
     ]
    }
   ],
   "source": [
    "pip install load_dotenv"
   ]
  },
  {
   "cell_type": "markdown",
   "id": "e8e70d34-1563-4bb6-9217-c53bae8df4da",
   "metadata": {},
   "source": [
    "## load data"
   ]
  },
  {
   "cell_type": "code",
   "execution_count": 40,
   "id": "adc497d3-a2d8-4bd3-8607-ad9fa3f2303f",
   "metadata": {},
   "outputs": [],
   "source": [
    "import boto3\n",
    "import awswrangler as wr\n",
    "from datetime import datetime\n",
    "import os\n",
    "from dotenv import load_dotenv"
   ]
  },
  {
   "cell_type": "markdown",
   "id": "1b011922-b401-4412-a956-28d05d19011b",
   "metadata": {},
   "source": [
    "=> boto3 : est la bibliothèque officielle d'AWS pour interagir avec les services AWS via Python.\n",
    "\n",
    "=>awswrangler : Simplifie l'accès et la manipulation de données depuis et vers plusieurs sources de données AWS telles que S3, Redshift, Athena, Glue, etc.\n",
    "\n",
    "=>dotenv est utilisée pour charger les variables d'environnement à partir d'un fichier .env\n",
    "\n"
   ]
  },
  {
   "cell_type": "code",
   "execution_count": 55,
   "id": "64688a16-bada-4567-82e4-89d6dd6a62fe",
   "metadata": {},
   "outputs": [],
   "source": [
    "def load(transformed_data:pd.DataFrame):\n",
    "    #Chargement des variables d'environnement du fichier .env\n",
    "    load_dotenv()\n",
    "    \n",
    "    #Obtention de la date et de l'heure actuelles\n",
    "    now=datetime.now()\n",
    "    year=now.strftime(\"%Y\")\n",
    "    month = now.strftime(\"%m\")\n",
    "    day =now.strftime(\"%d\")\n",
    "    time = now.strftime(\"%H:%M:%S\")\n",
    "\n",
    "    #crée une session Boto3 en utilisant les clés d'accès AWS et la région spécifiées.\n",
    "    session=boto3.Session(\n",
    "        aws_access_key_id=os.getenv('AWS_ACCESS_KEY_ID'),\n",
    "        aws_secret_access_key=os.getenv('AWS_SECRET_ACCESS_KEY'),\n",
    "        region_name=\"us-east-2\"\n",
    "    )\n",
    "\n",
    "    #On utilise la fonction to_parquet de awswrangler (wr.s3.to_parquet) \n",
    "    #pour charger le DataFrame transformed_data dans un bucket S3\n",
    "    wr.s3.to_parquet(\n",
    "        df=transformed_data,\n",
    "        #Le chemin S3 où les données seront chargées est construit en fonction de l'année, du mois, du jour et de l'heure actuels.\n",
    "        path='s3://etlairflowpipeline/open_meteo' + year + '/'+month +'/' +day +'/'+time + '.parquet',\n",
    "        boto3_session=session,\n",
    "    )\n",
    "        \n",
    "    "
   ]
  },
  {
   "cell_type": "code",
   "execution_count": 56,
   "id": "99afa39c-9edd-4fa8-8194-af5c43a149c9",
   "metadata": {},
   "outputs": [],
   "source": [
    "raw_data=extract()\n",
    "transformed_data=transform(raw_data)\n",
    "load(transformed_data)"
   ]
  },
  {
   "cell_type": "code",
   "execution_count": 1,
   "id": "6270aa06-ba50-4d17-b909-63f4d632caa0",
   "metadata": {},
   "outputs": [
    {
     "name": "stdout",
     "output_type": "stream",
     "text": [
      "   latitude  longitude  generationtime_ms  utc_offset_seconds timezone  \\\n",
      "0     52.52  13.419998           0.059962                   0      GMT   \n",
      "1     52.52  13.419998           0.059962                   0      GMT   \n",
      "2     52.52  13.419998           0.059962                   0      GMT   \n",
      "3     52.52  13.419998           0.059962                   0      GMT   \n",
      "4     52.52  13.419998           0.059962                   0      GMT   \n",
      "\n",
      "  timezone_abbreviation  elevation hourly_units.time  \\\n",
      "0                   GMT       38.0           iso8601   \n",
      "1                   GMT       38.0           iso8601   \n",
      "2                   GMT       38.0           iso8601   \n",
      "3                   GMT       38.0           iso8601   \n",
      "4                   GMT       38.0           iso8601   \n",
      "\n",
      "  hourly_units.temperature_2m       hourly.time  hourly.temperature_2m  \n",
      "0                          °C  2023-09-30T00:00                   17.2  \n",
      "1                          °C  2023-09-30T01:00                   15.6  \n",
      "2                          °C  2023-09-30T02:00                   14.4  \n",
      "3                          °C  2023-09-30T03:00                   13.4  \n",
      "4                          °C  2023-09-30T04:00                   12.6  \n"
     ]
    }
   ],
   "source": [
    "import pandas as pd\n",
    "\n",
    "# Charger le fichier Parquet dans un DataFrame\n",
    "df = pd.read_parquet('09_35_15.parquet')\n",
    "\n",
    "# Afficher les premières lignes du DataFrame\n",
    "print(df.head())\n"
   ]
  }
 ],
 "metadata": {
  "kernelspec": {
   "display_name": "Python 3 (ipykernel)",
   "language": "python",
   "name": "python3"
  },
  "language_info": {
   "codemirror_mode": {
    "name": "ipython",
    "version": 3
   },
   "file_extension": ".py",
   "mimetype": "text/x-python",
   "name": "python",
   "nbconvert_exporter": "python",
   "pygments_lexer": "ipython3",
   "version": "3.10.11"
  }
 },
 "nbformat": 4,
 "nbformat_minor": 5
}
